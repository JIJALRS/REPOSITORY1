{
  "nbformat": 4,
  "nbformat_minor": 0,
  "metadata": {
    "colab": {
      "provenance": []
    },
    "kernelspec": {
      "name": "python3",
      "display_name": "Python 3"
    },
    "language_info": {
      "name": "python"
    }
  },
  "cells": [
    {
      "cell_type": "markdown",
      "source": [
        "**PRACTICE EXERCISES ON PYTHON BASICS -2 **\n",
        "\n",
        "Submitted by: JIJAL R S"
      ],
      "metadata": {
        "id": "bq-HfJ3-_MRu"
      }
    },
    {
      "cell_type": "markdown",
      "source": [
        "1. Write a Python program to accept a string value from the user and display\n",
        "the count of each character in that string. Sample input: Enter a string\n",
        "value: assembly Sample output: a=1, s=2, e=1, m=1, b=1, l=1, y=1"
      ],
      "metadata": {
        "id": "2EfmVmoNvk6J"
      }
    },
    {
      "cell_type": "code",
      "source": [
        "word=input(\"ENTER A WORD in small letter \")\n",
        "x=['a','b','c','d','e','f','g','h','i','j','k','l','m','n','o','p','q','r','s','t','u','v','w','x','y','z']\n",
        "for i in range(0,26):  #ivide x intey index 0 to 25 aanu but number of elements 26 aanu\n",
        "  if x[i] in word:\n",
        "    print(x[i], word.count(x[i]))\n"
      ],
      "metadata": {
        "colab": {
          "base_uri": "https://localhost:8080/"
        },
        "id": "jABem1kZvvOr",
        "outputId": "d5d1acab-09c7-4acc-a759-cb8670087662"
      },
      "execution_count": 1,
      "outputs": [
        {
          "output_type": "stream",
          "name": "stdout",
          "text": [
            "ENTER A WORD in small letter assembly\n",
            "a 1\n",
            "b 1\n",
            "e 1\n",
            "l 1\n",
            "m 1\n",
            "s 2\n",
            "y 1\n"
          ]
        }
      ]
    },
    {
      "cell_type": "markdown",
      "source": [
        "2.Write a Python function to find the maximum of three numbers Sample\n",
        "input: 34,12,7 Sample output: 34"
      ],
      "metadata": {
        "id": "NfFmIZ4p2iMg"
      }
    },
    {
      "cell_type": "code",
      "source": [
        "x=[34,12,7]\n",
        "if x[0]>x[1] and x[0]>x[2]:\n",
        "  print(x[0])\n",
        "elif x[1]>x[0] and x[1]>x[2]:\n",
        "  print(x[1])\n",
        "else:\n",
        "  print(x[2])"
      ],
      "metadata": {
        "colab": {
          "base_uri": "https://localhost:8080/"
        },
        "id": "ewj1gCLs2YQC",
        "outputId": "955451aa-8d60-4427-a152-3e5fda26e6fb"
      },
      "execution_count": 2,
      "outputs": [
        {
          "output_type": "stream",
          "name": "stdout",
          "text": [
            "34\n"
          ]
        }
      ]
    },
    {
      "cell_type": "markdown",
      "source": [
        "3.Write a Python function called exponent(base,exp) that returns an\n",
        "integer value of base raises to the power of exp. Sample input: Enter the\n",
        "base: 2 Enter the exponent: 3 Sample output: 8"
      ],
      "metadata": {
        "id": "JW9FUzSp6QKn"
      }
    },
    {
      "cell_type": "code",
      "source": [
        "def exponent(base,exp):\n",
        "  print(int(base**exp))"
      ],
      "metadata": {
        "id": "E5H7LSxT6PwY"
      },
      "execution_count": 3,
      "outputs": []
    },
    {
      "cell_type": "code",
      "source": [
        "exponent(2,3)"
      ],
      "metadata": {
        "colab": {
          "base_uri": "https://localhost:8080/"
        },
        "id": "o1Bxul1P6wue",
        "outputId": "6cc3717c-2eaa-4ccd-f7d4-ad9fe7afe157"
      },
      "execution_count": 4,
      "outputs": [
        {
          "output_type": "stream",
          "name": "stdout",
          "text": [
            "8\n"
          ]
        }
      ]
    },
    {
      "cell_type": "markdown",
      "source": [
        "4.Write a Python function that takes a positive integer and returns the sum\n",
        "of the cube of all the positive integers smaller than the specified number.\n",
        "Sample input: 4 Sample output: 36.\n"
      ],
      "metadata": {
        "id": "t4vYoXN665Vp"
      }
    },
    {
      "cell_type": "code",
      "source": [
        "x=int(input(\"Enter an integer \"))\n",
        "y=[]\n",
        "for i in range(0,x):\n",
        "  y.append(i**3)\n",
        "print(sum(y))"
      ],
      "metadata": {
        "colab": {
          "base_uri": "https://localhost:8080/"
        },
        "id": "VkEdMzBl646R",
        "outputId": "6ee109c3-e5fc-4602-e87a-87591c031558"
      },
      "execution_count": 5,
      "outputs": [
        {
          "output_type": "stream",
          "name": "stdout",
          "text": [
            "Enter an integer 4\n",
            "36\n"
          ]
        }
      ]
    },
    {
      "cell_type": "markdown",
      "source": [
        "5. Write a Python program which iterates from 1 to 10. For multiples of 2,\n",
        "print “Fizz” instead of the number and for the multiples of 5, print “Buzz”.\n",
        "For numbers which are multiples of both 2 and 5, print “FizzBuzz”.\n",
        "Sample input: numbers from 1 to 10 Sample output: 1 Fizz 3 Fizz Buzz\n",
        "Fizz 7 Fizz 9 FizzBuzz"
      ],
      "metadata": {
        "id": "o4ouhEKmcoIH"
      }
    },
    {
      "cell_type": "code",
      "source": [
        "for i in range(1,11):\n",
        "  if i%2==0 and i%5==0:\n",
        "    print(i,\"FizzBuzz\")\n",
        "  elif i%5==0:\n",
        "    print(i,\"Buzz\")\n",
        "  elif i%2==0:\n",
        "    print(i,\"Fizz\")"
      ],
      "metadata": {
        "colab": {
          "base_uri": "https://localhost:8080/"
        },
        "id": "7uCG407XjVKq",
        "outputId": "d4e249b5-76b9-4f92-ab36-92d88863e23f"
      },
      "execution_count": null,
      "outputs": [
        {
          "output_type": "stream",
          "name": "stdout",
          "text": [
            "2 Fizz\n",
            "4 Fizz\n",
            "5 Buzz\n",
            "6 Fizz\n",
            "8 Fizz\n",
            "10 FizzBuzz\n"
          ]
        }
      ]
    },
    {
      "cell_type": "markdown",
      "source": [
        "6. Write a Python program to find the most frequent item in a list of\n",
        "numbers. Sample input: 2, 3, 4, 2, 5, 2 Sample output: 2"
      ],
      "metadata": {
        "id": "GEP8tmGhj1G2"
      }
    },
    {
      "cell_type": "code",
      "source": [
        "x=[2,3,4,2,5,2]\n",
        "y=[]\n",
        "for i in range(0,len(x)):\n",
        "  y.append(x.count(x[i]))\n",
        "if y[i]==max(y):\n",
        "  print(x[i])\n"
      ],
      "metadata": {
        "id": "hDWZUGeCj9b_",
        "colab": {
          "base_uri": "https://localhost:8080/"
        },
        "outputId": "9addbb86-5db3-4dc8-96e2-73a24a66d59c"
      },
      "execution_count": 6,
      "outputs": [
        {
          "output_type": "stream",
          "name": "stdout",
          "text": [
            "2\n"
          ]
        }
      ]
    },
    {
      "cell_type": "markdown",
      "source": [
        "7. Write a Python program to find the sum of squares of the numbers in a\n",
        "list. Sample input: 2,1,3,1 Sample output: 15\n"
      ],
      "metadata": {
        "id": "EZ1McN437zhr"
      }
    },
    {
      "cell_type": "code",
      "source": [
        "x=[2,1,3,1]\n",
        "y=[]\n",
        "for i in range(0,len(x)):\n",
        "  y.append(x[i]**2)\n",
        "print(sum(y))\n"
      ],
      "metadata": {
        "id": "gW1bV02F75cT",
        "colab": {
          "base_uri": "https://localhost:8080/"
        },
        "outputId": "d19c9200-7ade-43ef-97ac-6a9e07badca0"
      },
      "execution_count": 7,
      "outputs": [
        {
          "output_type": "stream",
          "name": "stdout",
          "text": [
            "15\n"
          ]
        }
      ]
    },
    {
      "cell_type": "markdown",
      "source": [
        "8. Write a Python program using for loop that will iterate from 1 to 15. For\n",
        "each iteration, check if the current number is odd or even, and display the\n",
        "message to the screen as odd or even. Sample input: 1….15 Sample\n",
        "output: 1-odd 2-even …. 15-odd"
      ],
      "metadata": {
        "id": "tIr5_Zsruyv8"
      }
    },
    {
      "cell_type": "code",
      "source": [
        "for i in range(1,16):\n",
        "  if i%2==0:\n",
        "    print(i,\" even\")\n",
        "  else:\n",
        "      print(i,\" odd\")"
      ],
      "metadata": {
        "id": "JHbwTLth3lG-",
        "colab": {
          "base_uri": "https://localhost:8080/"
        },
        "outputId": "7c2498c4-b3f7-49f9-db2e-07727625a42a"
      },
      "execution_count": null,
      "outputs": [
        {
          "output_type": "stream",
          "name": "stdout",
          "text": [
            "1  odd\n",
            "2  even\n",
            "3  odd\n",
            "4  even\n",
            "5  odd\n",
            "6  even\n",
            "7  odd\n",
            "8  even\n",
            "9  odd\n",
            "10  even\n",
            "11  odd\n",
            "12  even\n",
            "13  odd\n",
            "14  even\n",
            "15  odd\n"
          ]
        }
      ]
    },
    {
      "cell_type": "markdown",
      "source": [
        "9. Write a Python program to convert temperatures to and from Celsius\n",
        "Fahrenheit. [Formula: c/5=f-32/9 where c=temperature in Celsius and f=\n",
        "temperature in Fahrenheit.] Sample input: Temperature in Fahrenheit\n",
        "=41 Sample output: Temperature in Celsius =5"
      ],
      "metadata": {
        "id": "TnPXuFVfwCJa"
      }
    },
    {
      "cell_type": "code",
      "source": [
        "def faren_to_cel(x):\n",
        "  print(((x-32)/9)*5)"
      ],
      "metadata": {
        "id": "GBtGom0PwLR6"
      },
      "execution_count": null,
      "outputs": []
    },
    {
      "cell_type": "code",
      "source": [
        "def cel_to_faren(x):\n",
        "  print((x/5)+(32/9))"
      ],
      "metadata": {
        "id": "Pt01GZUzxbkt"
      },
      "execution_count": null,
      "outputs": []
    },
    {
      "cell_type": "code",
      "source": [
        "faren_to_temp(41)"
      ],
      "metadata": {
        "colab": {
          "base_uri": "https://localhost:8080/"
        },
        "id": "uMIrpU-Nxy_F",
        "outputId": "df51c882-f7d6-46cf-d7d0-af217ffdbee9"
      },
      "execution_count": null,
      "outputs": [
        {
          "output_type": "stream",
          "name": "stdout",
          "text": [
            "5.0\n"
          ]
        }
      ]
    },
    {
      "cell_type": "markdown",
      "source": [
        "10. Write a Python function to calculate the factorial of a number (a\n",
        "nonnegative integer). The function accepts the number as an argument.\n",
        "Sample input: 3 Sample output: 6"
      ],
      "metadata": {
        "id": "8YhH51Gzx8_C"
      }
    },
    {
      "cell_type": "code",
      "source": [
        "def factorial(x):\n",
        "  y=[]\n",
        "  for i in range(1,x+1):\n",
        "    if i==1:\n",
        "      y.append(i)\n",
        "    else:\n",
        "        y.append(i*y[i-2])\n",
        "  print(max(y))\n"
      ],
      "metadata": {
        "id": "dZGCLxjH6cWH"
      },
      "execution_count": null,
      "outputs": []
    },
    {
      "cell_type": "code",
      "source": [
        "factorial(3)"
      ],
      "metadata": {
        "colab": {
          "base_uri": "https://localhost:8080/"
        },
        "id": "qRbCMgm16uGT",
        "outputId": "70b124fe-1f4d-4b7c-b42d-ba448892e760"
      },
      "execution_count": null,
      "outputs": [
        {
          "output_type": "stream",
          "name": "stdout",
          "text": [
            "6\n"
          ]
        }
      ]
    }
  ]
}